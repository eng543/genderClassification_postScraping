{
 "cells": [
  {
   "cell_type": "code",
   "execution_count": 1,
   "metadata": {
    "collapsed": true
   },
   "outputs": [],
   "source": [
    "import pandas as pd\n",
    "from nltk.tokenize import TweetTokenizer\n",
    "from nltk.corpus import stopwords\n",
    "from nltk import * #bigrams, trigrams\n",
    "import numpy as np\n",
    "from collections import Counter, defaultdict\n",
    "import string\n",
    "import re\n",
    "import json\n",
    "import ast"
   ]
  },
  {
   "cell_type": "code",
   "execution_count": 3,
   "metadata": {
    "collapsed": false
   },
   "outputs": [],
   "source": [
    "# read in tweets from Erin's DBs\n",
    "t1 = pd.read_csv(\"scraped_tweets1.csv\")\n",
    "t2 = pd.read_csv(\"scraped_tweets2.csv\")\n",
    "t3 = pd.read_csv(\"scraped_tweets3.csv\")\n",
    "t4 = pd.read_csv(\"scraped_tweets4.csv\")"
   ]
  },
  {
   "cell_type": "code",
   "execution_count": 4,
   "metadata": {
    "collapsed": true
   },
   "outputs": [],
   "source": [
    "frames = [t1, t2, t3, t4]\n",
    "tweets_erinDB = pd.concat(frames)"
   ]
  },
  {
   "cell_type": "code",
   "execution_count": 6,
   "metadata": {
    "collapsed": false
   },
   "outputs": [],
   "source": [
    "d = []\n",
    "with open('usernames_filtered_2.txt') as rf:\n",
    "    lines = rf.readlines()\n",
    "    for line in lines:\n",
    "        d.append(line[:-2])"
   ]
  },
  {
   "cell_type": "code",
   "execution_count": 7,
   "metadata": {
    "collapsed": true
   },
   "outputs": [],
   "source": [
    "tweets_erinDB_filtered = tweets_erinDB[tweets_erinDB['query'].isin(d)]"
   ]
  },
  {
   "cell_type": "code",
   "execution_count": 8,
   "metadata": {
    "collapsed": true
   },
   "outputs": [],
   "source": [
    "# read in tweets from Nathan's DB\n",
    "t5 = pd.read_csv(\"scraped_tweets5.csv\")"
   ]
  },
  {
   "cell_type": "code",
   "execution_count": 9,
   "metadata": {
    "collapsed": true
   },
   "outputs": [],
   "source": [
    "frames2 = [tweets_erinDB_filtered, t5]\n",
    "tweets = pd.concat(frames2)"
   ]
  },
  {
   "cell_type": "code",
   "execution_count": 10,
   "metadata": {
    "collapsed": true
   },
   "outputs": [],
   "source": [
    "# remove non-english tweets, reset indices\n",
    "tweets_eng = tweets[tweets['language'].isin(['en', 'und'])]\n",
    "tweets_eng = tweets_eng.reset_index(drop = True)"
   ]
  },
  {
   "cell_type": "code",
   "execution_count": 11,
   "metadata": {
    "collapsed": true
   },
   "outputs": [],
   "source": [
    "# filter users who have less than 100 tweets\n",
    "tweets_eng['count'] = 1\n",
    "tweet_count_grouped = tweets_eng.groupby('query')\n",
    "tweet_count = tweet_count_grouped['count'].agg([np.sum])\n",
    "tweet_count['keep'] = tweet_count['sum'] >= 100\n",
    "tweet_keep = tweet_count[tweet_count['keep'] == True]\n",
    "users_tweet_keep = list(tweet_keep.index)\n",
    "tweets_eng_keep = tweets_eng[tweets_eng['query'].isin(users_tweet_keep)]\n",
    "\n",
    "#len(tweets_eng_keep), len(tweets_eng)"
   ]
  },
  {
   "cell_type": "code",
   "execution_count": 12,
   "metadata": {
    "collapsed": true
   },
   "outputs": [],
   "source": [
    "# filter users who have 3x as many friends as followers (potential bots)\n",
    "friend_count_grouped = tweets_eng_keep.groupby('query')\n",
    "followers_count = friend_count_grouped['num_followers'].agg([np.mean])\n",
    "friends_count = friend_count_grouped['num_friends'].agg([np.mean])\n",
    "friends_count['ratio'] = friends_count['mean']/friends_count['mean']\n",
    "friends_count['keep'] = friends_count['ratio'] <= 3\n",
    "ratio_keep = friends_count[friends_count['keep'] == True]\n",
    "users_ratio_keep = list(ratio_keep.index)\n",
    "tweets_trimmed = tweets_eng_keep[tweets_eng_keep['query'].isin(users_ratio_keep)]\n",
    "#len(tweets_trimmed), len(tweets_eng_keep), len(tweets_eng)\n",
    "tweets_trimmed = tweets_trimmed.reset_index(drop = True)"
   ]
  },
  {
   "cell_type": "code",
   "execution_count": 13,
   "metadata": {
    "collapsed": true
   },
   "outputs": [],
   "source": [
    "# deal with NaN\n",
    "tweets_trimmed['entities_hashtags'] = tweets_trimmed['entities_hashtags'].fillna(0)\n",
    "tweets_trimmed['entities_urls'] = tweets_trimmed['entities_urls'].fillna(0)"
   ]
  },
  {
   "cell_type": "code",
   "execution_count": 15,
   "metadata": {
    "collapsed": false
   },
   "outputs": [
    {
     "name": "stdout",
     "output_type": "stream",
     "text": [
      "3578\n"
     ]
    }
   ],
   "source": [
    "users = list(set(tweets_trimmed['query']))\n",
    "print len(users)"
   ]
  },
  {
   "cell_type": "code",
   "execution_count": 16,
   "metadata": {
    "collapsed": true
   },
   "outputs": [],
   "source": [
    "with open('user_gender_labels.txt', 'r') as rf:\n",
    "    labels = json.loads(rf.read())"
   ]
  },
  {
   "cell_type": "code",
   "execution_count": 18,
   "metadata": {
    "collapsed": false
   },
   "outputs": [
    {
     "name": "stdout",
     "output_type": "stream",
     "text": [
      "3047\n"
     ]
    }
   ],
   "source": [
    "remove_user = []\n",
    "trimmed_users = []\n",
    "\n",
    "for i in range(len(users)):\n",
    "    label = labels[users[i]]\n",
    "    if label == \"unknown\":\n",
    "        remove_user.append(i)\n",
    "    else:\n",
    "        trimmed_users.append(users[i])\n",
    "    \n",
    "print len(trimmed_users)"
   ]
  },
  {
   "cell_type": "code",
   "execution_count": 15,
   "metadata": {
    "collapsed": false
   },
   "outputs": [],
   "source": [
    "# read in trimmed matrix\n",
    "matrix = np.load('outputMatrix.txt.npz')"
   ]
  },
  {
   "cell_type": "code",
   "execution_count": 16,
   "metadata": {
    "collapsed": false
   },
   "outputs": [],
   "source": [
    "user_feature_matrix = matrix['user_feature_matrix']"
   ]
  },
  {
   "cell_type": "code",
   "execution_count": 27,
   "metadata": {
    "collapsed": false
   },
   "outputs": [
    {
     "name": "stdout",
     "output_type": "stream",
     "text": [
      "(3578, 65871)\n"
     ]
    }
   ],
   "source": [
    "print user_feature_matrix.shape"
   ]
  },
  {
   "cell_type": "code",
   "execution_count": 17,
   "metadata": {
    "collapsed": true
   },
   "outputs": [],
   "source": [
    "user_feature_matrix_trimmed = np.delete(user_feature_matrix, remove_user, 0)"
   ]
  },
  {
   "cell_type": "code",
   "execution_count": 29,
   "metadata": {
    "collapsed": false
   },
   "outputs": [
    {
     "name": "stdout",
     "output_type": "stream",
     "text": [
      "(3047, 65871)\n"
     ]
    }
   ],
   "source": [
    "print user_feature_matrix_trimmed.shape"
   ]
  },
  {
   "cell_type": "code",
   "execution_count": 30,
   "metadata": {
    "collapsed": true
   },
   "outputs": [],
   "source": [
    "np.savez_compressed('outputMatrix_userTrimmed', matrix = user_feature_matrix_trimmed)"
   ]
  },
  {
   "cell_type": "code",
   "execution_count": 17,
   "metadata": {
    "collapsed": true
   },
   "outputs": [],
   "source": [
    "unigrams = np.load('outputMatrix_unigrams.npz')\n",
    "unigrams_matrix = unigrams['matrix']\n",
    "unigrams_matrix_trimmed = np.delete(unigrams_matrix, remove_user, 0)\n",
    "np.savez_compressed('outputMatrix_unigramsTrimmed', matrix = unigrams_matrix_trimmed)"
   ]
  },
  {
   "cell_type": "code",
   "execution_count": 18,
   "metadata": {
    "collapsed": true
   },
   "outputs": [],
   "source": [
    "bigrams = np.load('outputMatrix_bigrams.npz')\n",
    "bigrams_matrix = bigrams['matrix']\n",
    "bigrams_matrix_trimmed = np.delete(bigrams_matrix, remove_user, 0)\n",
    "np.savez_compressed('outputMatrix_bigramsTrimmed', matrix = bigrams_matrix_trimmed)"
   ]
  },
  {
   "cell_type": "code",
   "execution_count": 19,
   "metadata": {
    "collapsed": true
   },
   "outputs": [],
   "source": [
    "categories = np.load('outputMatrix_categories.npz')\n",
    "categories_matrix = categories['matrix']\n",
    "categories_matrix_trimmed = np.delete(categories_matrix, remove_user, 0)\n",
    "np.savez_compressed('outputMatrix_categoriesTrimmed', matrix = categories_matrix_trimmed)"
   ]
  },
  {
   "cell_type": "code",
   "execution_count": 20,
   "metadata": {
    "collapsed": true
   },
   "outputs": [],
   "source": [
    "hashtags = np.load('outputMatrix_hashtags.npz')\n",
    "hashtags_matrix = hashtags['matrix']\n",
    "hashtags_matrix_trimmed = np.delete(hashtags_matrix, remove_user, 0)\n",
    "np.savez_compressed('outputMatrix_hashtagsTrimmed', matrix = hashtags_matrix_trimmed)"
   ]
  },
  {
   "cell_type": "code",
   "execution_count": 16,
   "metadata": {
    "collapsed": true
   },
   "outputs": [],
   "source": [
    "with open('users_post_trim.txt', 'w') as wf:\n",
    "    for user in trimmed_users:\n",
    "        wf.write(user + '\\n')"
   ]
  },
  {
   "cell_type": "code",
   "execution_count": 15,
   "metadata": {
    "collapsed": false
   },
   "outputs": [],
   "source": [
    "# scheme 1\n",
    "classes = np.zeros((1, len(trimmed_users)))\n",
    "\n",
    "for i in range(len(trimmed_users)):\n",
    "    label = labels[trimmed_users[i]]\n",
    "    if label == \"male\":\n",
    "        classes[0][i] = 0\n",
    "    elif label == \"female\":\n",
    "        classes[0][i] = 1\n",
    "    elif label == \"transmale\":\n",
    "        classes[0][i] = 2\n",
    "    elif label == \"transfemale\":\n",
    "        classes[0][i] = 3\n",
    "    else:\n",
    "        classes[0][i] = 4"
   ]
  },
  {
   "cell_type": "code",
   "execution_count": 19,
   "metadata": {
    "collapsed": false
   },
   "outputs": [],
   "source": [
    "np.savez_compressed('user_class_array', matrix = classes)"
   ]
  },
  {
   "cell_type": "code",
   "execution_count": 19,
   "metadata": {
    "collapsed": false
   },
   "outputs": [],
   "source": [
    "# scheme 2\n",
    "classes_2 = np.zeros((1, len(trimmed_users)))\n",
    "\n",
    "for i in range(len(trimmed_users)):\n",
    "    label = labels[trimmed_users[i]]\n",
    "    if label == \"male\":\n",
    "        classes_2[0][i] = 0\n",
    "    elif label == \"female\":\n",
    "        classes_2[0][i] = 0\n",
    "    elif label == \"transmale\":\n",
    "        classes_2[0][i] = 1\n",
    "    elif label == \"transfemale\":\n",
    "        classes_2[0][i] = 1\n",
    "    else:\n",
    "        classes_2[0][i] = 1"
   ]
  },
  {
   "cell_type": "code",
   "execution_count": 20,
   "metadata": {
    "collapsed": false
   },
   "outputs": [],
   "source": [
    "np.savez_compressed('user_class_array_scheme2', matrix = classes_2)"
   ]
  },
  {
   "cell_type": "code",
   "execution_count": 21,
   "metadata": {
    "collapsed": false
   },
   "outputs": [],
   "source": [
    "# scheme 3\n",
    "classes_3 = np.zeros((1, len(trimmed_users)))\n",
    "\n",
    "for i in range(len(trimmed_users)):\n",
    "    label = labels[trimmed_users[i]]\n",
    "    if label == \"male\":\n",
    "        classes_3[0][i] = 0\n",
    "    elif label == \"female\":\n",
    "        classes_3[0][i] = 1\n",
    "    elif label == \"transmale\":\n",
    "        classes_3[0][i] = 2\n",
    "    elif label == \"transfemale\":\n",
    "        classes_3[0][i] = 2\n",
    "    else:\n",
    "        classes_3[0][i] = 2"
   ]
  },
  {
   "cell_type": "code",
   "execution_count": 22,
   "metadata": {
    "collapsed": false
   },
   "outputs": [],
   "source": [
    "np.savez_compressed('user_class_array_scheme3', matrix = classes_3)"
   ]
  },
  {
   "cell_type": "code",
   "execution_count": 34,
   "metadata": {
    "collapsed": false
   },
   "outputs": [
    {
     "data": {
      "text/plain": [
       "4.0"
      ]
     },
     "execution_count": 34,
     "metadata": {},
     "output_type": "execute_result"
    }
   ],
   "source": [
    "classes[0][15]"
   ]
  },
  {
   "cell_type": "code",
   "execution_count": null,
   "metadata": {
    "collapsed": true
   },
   "outputs": [],
   "source": []
  }
 ],
 "metadata": {
  "kernelspec": {
   "display_name": "Python 2",
   "language": "python",
   "name": "python2"
  },
  "language_info": {
   "codemirror_mode": {
    "name": "ipython",
    "version": 2
   },
   "file_extension": ".py",
   "mimetype": "text/x-python",
   "name": "python",
   "nbconvert_exporter": "python",
   "pygments_lexer": "ipython2",
   "version": "2.7.11"
  }
 },
 "nbformat": 4,
 "nbformat_minor": 0
}
