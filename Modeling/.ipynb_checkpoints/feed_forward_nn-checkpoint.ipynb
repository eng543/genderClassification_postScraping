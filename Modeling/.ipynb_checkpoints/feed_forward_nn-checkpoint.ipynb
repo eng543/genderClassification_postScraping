{
 "cells": [
  {
   "cell_type": "code",
   "execution_count": 1,
   "metadata": {
    "collapsed": true
   },
   "outputs": [],
   "source": [
    "from pybrain.datasets            import ClassificationDataSet\n",
    "from pybrain.utilities           import percentError\n",
    "from pybrain.tools.shortcuts     import buildNetwork\n",
    "from pybrain.supervised.trainers import BackpropTrainer\n",
    "from pybrain.structure.modules   import SoftmaxLayer\n",
    "from pylab import ion, ioff, figure, draw, contourf, clf, show, hold, plot, load\n",
    "from scipy import diag, arange, meshgrid, where\n",
    "from numpy.random import multivariate_normal\n",
    "from sklearn.cross_validation import train_test_split"
   ]
  },
  {
   "cell_type": "code",
   "execution_count": 2,
   "metadata": {
    "collapsed": false
   },
   "outputs": [],
   "source": [
    "X_full = load('outputMatrix_userTrimmed.npz')\n",
    "X = X_full['matrix']"
   ]
  },
  {
   "cell_type": "code",
   "execution_count": 3,
   "metadata": {
    "collapsed": true
   },
   "outputs": [],
   "source": [
    "y_full = load('user_class_array.npz')\n",
    "y_np = y_full['matrix']\n",
    "#X = X_np.tolist()\n",
    "y = y_np.tolist()[0]"
   ]
  },
  {
   "cell_type": "code",
   "execution_count": 4,
   "metadata": {
    "collapsed": false
   },
   "outputs": [],
   "source": [
    "X_train, X_test = train_test_split(X, test_size=0.1, random_state=9)"
   ]
  },
  {
   "cell_type": "code",
   "execution_count": 5,
   "metadata": {
    "collapsed": false
   },
   "outputs": [],
   "source": [
    "X_data = ClassificationDataSet(X.shape[1], 1, nb_classes=5)\n",
    "for i in range(X.shape[0]):\n",
    "    X_data.addSample(X[i], int(y[i]))"
   ]
  },
  {
   "cell_type": "code",
   "execution_count": 6,
   "metadata": {
    "collapsed": true
   },
   "outputs": [],
   "source": [
    "X_test, X_train = X_data.splitWithProportion( 0.1 )"
   ]
  },
  {
   "cell_type": "code",
   "execution_count": 7,
   "metadata": {
    "collapsed": true
   },
   "outputs": [],
   "source": [
    "X_train._convertToOneOfMany( )\n",
    "X_test._convertToOneOfMany( )"
   ]
  },
  {
   "cell_type": "code",
   "execution_count": 8,
   "metadata": {
    "collapsed": false
   },
   "outputs": [
    {
     "name": "stdout",
     "output_type": "stream",
     "text": [
      "Number of training patterns:  2743\n",
      "Input and output dimensions:  65871 5\n",
      "First sample (input, target, class):\n",
      "[ 1.  0.  0. ...,  0.  0.  0.] [0 0 0 0 1] [ 4.]\n"
     ]
    }
   ],
   "source": [
    "print \"Number of training patterns: \", len(X_train)\n",
    "print \"Input and output dimensions: \", X_train.indim, X_train.outdim\n",
    "print \"First sample (input, target, class):\"\n",
    "print X_train['input'][0], X_train['target'][0], X_train['class'][0]"
   ]
  },
  {
   "cell_type": "code",
   "execution_count": 9,
   "metadata": {
    "collapsed": true
   },
   "outputs": [],
   "source": [
    "fnn = buildNetwork( X_train.indim, 5, X_train.outdim, outclass=SoftmaxLayer )"
   ]
  },
  {
   "cell_type": "code",
   "execution_count": 10,
   "metadata": {
    "collapsed": true
   },
   "outputs": [],
   "source": [
    "trainer = BackpropTrainer( fnn, dataset=X_train, momentum=0.1, verbose=True, weightdecay=0.01)"
   ]
  },
  {
   "cell_type": "code",
   "execution_count": 11,
   "metadata": {
    "collapsed": false
   },
   "outputs": [
    {
     "name": "stdout",
     "output_type": "stream",
     "text": [
      "Total error: 0.0722131960721\n",
      "epoch:    1   train error: 59.93%   test error: 64.80%\n",
      "Total error: 0.0680182008419\n",
      "epoch:    2   train error: 59.83%   test error: 63.16%\n",
      "Total error: 0.0673896499633\n",
      "epoch:    3   train error: 55.38%   test error: 64.47%\n",
      "Total error: 0.0660489953336\n",
      "epoch:    4   train error: 55.16%   test error: 61.84%\n",
      "Total error: 0.0622131952624\n",
      "epoch:    5   train error: 43.02%   test error: 49.34%\n",
      "Total error: 0.055398878878\n",
      "epoch:    6   train error: 37.33%   test error: 40.46%\n",
      "Total error: 0.0495349401927\n",
      "epoch:    7   train error: 32.56%   test error: 36.51%\n",
      "Total error: 0.0441915248905\n",
      "epoch:    8   train error: 23.81%   test error: 36.18%\n",
      "Total error: 0.0381193298772\n",
      "epoch:    9   train error: 18.78%   test error: 35.20%\n",
      "Total error: 0.0323580498166\n",
      "epoch:   10   train error: 17.64%   test error: 34.54%\n",
      "Total error: 0.0256459048491\n",
      "epoch:   11   train error: 12.10%   test error: 34.54%\n",
      "Total error: 0.0193263407195\n",
      "epoch:   12   train error:  7.98%   test error: 27.63%\n",
      "Total error: 0.0147429164752\n",
      "epoch:   13   train error: 18.70%   test error: 43.75%\n",
      "Total error: 0.0119222530639\n",
      "epoch:   14   train error:  4.92%   test error: 25.99%\n",
      "Total error: 0.00955540478467\n",
      "epoch:   15   train error:  2.81%   test error: 27.63%\n",
      "Total error: 0.00803586794995\n",
      "epoch:   16   train error:  1.75%   test error: 27.63%\n",
      "Total error: 0.00676792411811\n",
      "epoch:   17   train error:  1.42%   test error: 27.96%\n",
      "Total error: 0.00565353755319\n",
      "epoch:   18   train error:  2.22%   test error: 28.29%\n",
      "Total error: 0.0064832079627\n",
      "epoch:   19   train error: 22.06%   test error: 35.20%\n",
      "Total error: 0.0068634285423\n",
      "epoch:   20   train error:  1.13%   test error: 26.64%\n"
     ]
    }
   ],
   "source": [
    "for i in range(20):\n",
    "    trainer.trainEpochs( 1 )\n",
    "    trnresult = percentError( trainer.testOnClassData(),\n",
    "                              X_train['class'] )\n",
    "    tstresult = percentError( trainer.testOnClassData(\n",
    "           dataset=X_test ), X_test['class'] )\n",
    "\n",
    "    print \"epoch: %4d\" % trainer.totalepochs, \\\n",
    "          \"  train error: %5.2f%%\" % trnresult, \\\n",
    "          \"  test error: %5.2f%%\" % tstresult"
   ]
  },
  {
   "cell_type": "code",
   "execution_count": null,
   "metadata": {
    "collapsed": true
   },
   "outputs": [],
   "source": []
  }
 ],
 "metadata": {
  "kernelspec": {
   "display_name": "Python 2",
   "language": "python",
   "name": "python2"
  },
  "language_info": {
   "codemirror_mode": {
    "name": "ipython",
    "version": 2
   },
   "file_extension": ".py",
   "mimetype": "text/x-python",
   "name": "python",
   "nbconvert_exporter": "python",
   "pygments_lexer": "ipython2",
   "version": "2.7.11"
  }
 },
 "nbformat": 4,
 "nbformat_minor": 0
}
