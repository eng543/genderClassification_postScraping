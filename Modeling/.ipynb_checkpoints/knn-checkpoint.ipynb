{
 "cells": [
  {
   "cell_type": "code",
   "execution_count": 17,
   "metadata": {
    "collapsed": true
   },
   "outputs": [],
   "source": [
    "import numpy as np\n",
    "from sklearn import neighbors\n",
    "from sklearn.cross_validation import KFold, train_test_split, cross_val_score\n",
    "from sklearn.feature_selection import VarianceThreshold"
   ]
  },
  {
   "cell_type": "code",
   "execution_count": 4,
   "metadata": {
    "collapsed": true
   },
   "outputs": [],
   "source": [
    "X_array = np.load('outputMatrix_userTrimmed.npz')\n",
    "X = X_array['matrix']"
   ]
  },
  {
   "cell_type": "code",
   "execution_count": 18,
   "metadata": {
    "collapsed": false
   },
   "outputs": [
    {
     "data": {
      "text/plain": [
       "(3047, 2838)"
      ]
     },
     "execution_count": 18,
     "metadata": {},
     "output_type": "execute_result"
    }
   ],
   "source": [
    "# remove features with low variance (ie more than 80% samples have same value)\n",
    "sel = VarianceThreshold(threshold=(.8 * (1 - .8)))\n",
    "X_sel = sel.fit_transform(X)\n",
    "X_sel.shape"
   ]
  },
  {
   "cell_type": "code",
   "execution_count": 5,
   "metadata": {
    "collapsed": true
   },
   "outputs": [],
   "source": [
    "y_array = np.load('user_class_array.npz')\n",
    "y_np = y_array['matrix']\n",
    "y = y_np.tolist()[0]"
   ]
  },
  {
   "cell_type": "code",
   "execution_count": 19,
   "metadata": {
    "collapsed": false
   },
   "outputs": [],
   "source": [
    "X_train, X_test, y_train, y_test = train_test_split(X_sel, y, test_size=0.1,\n",
    "                                                    random_state=9)"
   ]
  },
  {
   "cell_type": "code",
   "execution_count": 103,
   "metadata": {
    "collapsed": true
   },
   "outputs": [],
   "source": [
    "n_neighbors = 11"
   ]
  },
  {
   "cell_type": "code",
   "execution_count": 178,
   "metadata": {
    "collapsed": false
   },
   "outputs": [],
   "source": [
    "# weights = 'uniform' or 'distance'\n",
    "cv_clf = neighbors.KNeighborsClassifier(n_neighbors, weights='distance', metric='jaccard')"
   ]
  },
  {
   "cell_type": "code",
   "execution_count": 179,
   "metadata": {
    "collapsed": false
   },
   "outputs": [
    {
     "name": "stdout",
     "output_type": "stream",
     "text": [
      "[ 0.72        0.65454545  0.66423358  0.63138686  0.66423358  0.65693431\n",
      "  0.70072993  0.63868613  0.64963504  0.64233577] CV accuracy: 0.66 (+/- 0.05)\n"
     ]
    }
   ],
   "source": [
    "kf = KFold(X_train.shape[0], 10)\n",
    "cv_scores = cross_val_score(cv_clf, X_train, y_train, cv=kf, n_jobs=1)\n",
    "print cv_scores, 'CV accuracy: %0.2f (+/- %0.2f)' % (cv_scores.mean(), cv_scores.std()*2)\n",
    "\n",
    "#[cv_clf.fit(X_train[train_indices], y_train[train_indices]).score(X_train[test_indices],y_train[test_indices])\n",
    "#for train_indices, test_indices in kf_total]"
   ]
  },
  {
   "cell_type": "code",
   "execution_count": null,
   "metadata": {
    "collapsed": true
   },
   "outputs": [],
   "source": [
    "#neighbors.KNeighborsClassifier(n_neighbors, weights='distance', metric='euclidean')\n",
    "[ 0.61454545  0.57454545  0.58759124  0.54379562  0.55109489  0.61313869\n",
    "  0.61313869  0.61678832  0.55474453  0.58394161] CV accuracy: 0.59 (+/- 0.05)\n",
    "\n",
    "#neighbors.KNeighborsClassifier(n_neighbors, weights='distance')\n",
    "[ 0.61454545  0.57454545  0.58759124  0.54379562  0.55109489  0.61313869\n",
    "  0.61313869  0.61678832  0.55474453  0.58394161] CV accuracy: 0.59 (+/- 0.05)\n",
    "\n",
    "#neighbors.KNeighborsClassifier(n_neighbors, weights='distance', metric='manhattan')\n",
    "[ 0.61454545  0.57454545  0.58759124  0.54379562  0.55109489  0.61313869\n",
    "  0.61313869  0.61678832  0.55839416  0.58394161] CV accuracy: 0.59 (+/- 0.05)\n",
    "\n",
    "#neighbors.KNeighborsClassifier(n_neighbors, weights='distance', metric='chebyshev')\n",
    "[ 0.33818182  0.32727273  0.37226277  0.33941606  0.40510949  0.32116788\n",
    "  0.36131387  0.3649635   0.34306569  0.31386861] CV accuracy: 0.35 (+/- 0.05)\n",
    "\n",
    "#neighbors.KNeighborsClassifier(n_neighbors, weights='distance', metric='hamming')\n",
    "[ 0.61090909  0.57454545  0.58759124  0.54744526  0.55474453  0.61678832\n",
    "  0.61678832  0.61678832  0.55474453  0.58759124] CV accuracy: 0.59 (+/- 0.05)\n",
    "    \n",
    "#neighbors.KNeighborsClassifier(n_neighbors, weights='distance', metric='canberra')\n",
    "[ 0.61454545  0.58181818  0.58759124  0.54379562  0.54744526  0.61313869\n",
    "  0.61678832  0.62043796  0.55474453  0.59124088] CV accuracy: 0.59 (+/- 0.06)\n",
    "\n",
    "#neighbors.KNeighborsClassifier(n_neighbors, weights='distance', metric='jaccard')\n",
    "[ 0.72        0.65454545  0.66423358  0.63138686  0.66423358  0.65693431\n",
    "  0.70072993  0.63868613  0.64963504  0.64233577] CV accuracy: 0.66 (+/- 0.05)\n",
    "\n",
    "#neighbors.KNeighborsClassifier(n_neighbors, weights='distance', metric='dice')\n",
    "[ 0.72        0.65454545  0.66423358  0.63138686  0.66423358  0.65693431\n",
    "  0.70072993  0.63868613  0.64963504  0.6459854 ] CV accuracy: 0.66 (+/- 0.05)\n",
    "\n",
    "#neighbors.KNeighborsClassifier(n_neighbors, weights='distance', metric='rogerstanimoto')\n",
    "[ 0.61454545  0.58181818  0.58759124  0.54379562  0.54744526  0.61313869\n",
    "  0.61678832  0.62043796  0.55474453  0.59124088] CV accuracy: 0.59 (+/- 0.06)\n",
    "\n",
    "#neighbors.KNeighborsClassifier(n_neighbors, weights='distance', metric='russellrao')\n",
    "[ 0.59636364  0.59272727  0.62408759  0.50364964  0.55839416  0.54744526\n",
    "  0.62408759  0.62408759  0.54744526  0.58029197] CV accuracy: 0.58 (+/- 0.08)\n",
    "    \n",
    "#neighbors.KNeighborsClassifier(n_neighbors, weights='distance', metric='sokalmichener')\n",
    "[ 0.61454545  0.58181818  0.58759124  0.54379562  0.54744526  0.61313869\n",
    "  0.61678832  0.62043796  0.55474453  0.59124088] CV accuracy: 0.59 (+/- 0.06)\n",
    "\n",
    "#neighbors.KNeighborsClassifier(n_neighbors, weights='distance', metric='sokalsneath')\n",
    "[ 0.72        0.65454545  0.66423358  0.63138686  0.66423358  0.65693431\n",
    "  0.70072993  0.63868613  0.64963504  0.64233577] CV accuracy: 0.66 (+/- 0.05)"
   ]
  },
  {
   "cell_type": "code",
   "execution_count": null,
   "metadata": {
    "collapsed": true
   },
   "outputs": [],
   "source": [
    "clf.fit(X_train, y_train)\n",
    "\n",
    "acc = clf.score(X_test, y_test)\n",
    "print('Test accuracy: {:.4f}'.format(acc))"
   ]
  }
 ],
 "metadata": {
  "kernelspec": {
   "display_name": "Python 2",
   "language": "python",
   "name": "python2"
  },
  "language_info": {
   "codemirror_mode": {
    "name": "ipython",
    "version": 2
   },
   "file_extension": ".py",
   "mimetype": "text/x-python",
   "name": "python",
   "nbconvert_exporter": "python",
   "pygments_lexer": "ipython2",
   "version": "2.7.11"
  }
 },
 "nbformat": 4,
 "nbformat_minor": 0
}
