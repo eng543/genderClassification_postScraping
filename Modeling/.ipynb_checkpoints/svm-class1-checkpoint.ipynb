{
 "cells": [
  {
   "cell_type": "code",
   "execution_count": 26,
   "metadata": {
    "collapsed": false
   },
   "outputs": [],
   "source": [
    "from sklearn import svm\n",
    "from sklearn.grid_search import GridSearchCV\n",
    "from sklearn.cross_validation import KFold, train_test_split, cross_val_score\n",
    "from sklearn.feature_selection import VarianceThreshold\n",
    "from sklearn.metrics import confusion_matrix, roc_auc_score\n",
    "from sklearn.decomposition import PCA\n",
    "from sklearn.preprocessing import label_binarize\n",
    "from sklearn.multiclass import OneVsRestClassifier\n",
    "import numpy as np\n",
    "import json"
   ]
  },
  {
   "cell_type": "code",
   "execution_count": 27,
   "metadata": {
    "collapsed": false
   },
   "outputs": [],
   "source": [
    "X_array = np.load('outputMatrix_userTrimmed.npz')\n",
    "X = X_array['matrix']"
   ]
  },
  {
   "cell_type": "code",
   "execution_count": 3,
   "metadata": {
    "collapsed": false
   },
   "outputs": [
    {
     "data": {
      "text/plain": [
       "(3047, 65871)"
      ]
     },
     "execution_count": 3,
     "metadata": {},
     "output_type": "execute_result"
    }
   ],
   "source": [
    "X.shape"
   ]
  },
  {
   "cell_type": "code",
   "execution_count": 28,
   "metadata": {
    "collapsed": false
   },
   "outputs": [
    {
     "data": {
      "text/plain": [
       "(3047, 2838)"
      ]
     },
     "execution_count": 28,
     "metadata": {},
     "output_type": "execute_result"
    }
   ],
   "source": [
    "# remove features with low variance (ie more than 80% samples have same value)\n",
    "sel = VarianceThreshold(threshold=(.8 * (1 - .8)))\n",
    "X_sel = sel.fit_transform(X)\n",
    "X_sel.shape"
   ]
  },
  {
   "cell_type": "code",
   "execution_count": 81,
   "metadata": {
    "collapsed": true
   },
   "outputs": [],
   "source": [
    "# indices for features, so we can trace back to original n_gram map\n",
    "indices = sel.get_support(indices=True)\n",
    "\n",
    "indices_dict = {}\n",
    "count = 0\n",
    "for i in range(indices.shape[0]):\n",
    "    indices_dict[count] = indices[i]\n",
    "    count += 1"
   ]
  },
  {
   "cell_type": "code",
   "execution_count": 25,
   "metadata": {
    "collapsed": false
   },
   "outputs": [],
   "source": [
    "# alternative: PCA for dimensionality reduction\n",
    "#sel = PCA()\n",
    "#pca = sel.fit(X)\n",
    "#print pca.explained_variance_ratio_\n",
    "#X_sel = sel.fit_transform(X)"
   ]
  },
  {
   "cell_type": "code",
   "execution_count": 34,
   "metadata": {
    "collapsed": false
   },
   "outputs": [],
   "source": [
    "y_array = np.load('user_class_array.npz')\n",
    "y_np = y_array['matrix']\n",
    "y = y_np.tolist()[0]\n",
    "y = label_binarize(y, classes=[0, 1, 2, 3, 4])"
   ]
  },
  {
   "cell_type": "code",
   "execution_count": 8,
   "metadata": {
    "collapsed": false
   },
   "outputs": [
    {
     "data": {
      "text/plain": [
       "[(4.0, 1195), (0.0, 1053), (1.0, 623), (3.0, 152), (2.0, 24)]"
      ]
     },
     "execution_count": 8,
     "metadata": {},
     "output_type": "execute_result"
    }
   ],
   "source": [
    "# zero-r\n",
    "from collections import Counter\n",
    "data = Counter(y)\n",
    "print data.most_common()\n",
    "print 1195/float(len(y))"
   ]
  },
  {
   "cell_type": "code",
   "execution_count": 35,
   "metadata": {
    "collapsed": true
   },
   "outputs": [],
   "source": [
    "X_train, X_test, y_train, y_test = train_test_split(X_sel, y, test_size=0.1,\n",
    "                                                    random_state=9)"
   ]
  },
  {
   "cell_type": "code",
   "execution_count": 55,
   "metadata": {
    "collapsed": false
   },
   "outputs": [
    {
     "name": "stdout",
     "output_type": "stream",
     "text": [
      "[ 0.64        0.58545455  0.60948905  0.56569343  0.61313869  0.54744526\n",
      "  0.64963504  0.56569343  0.60218978  0.60948905] CV accuracy: 0.60 (+/- 0.06)\n"
     ]
    }
   ],
   "source": [
    "# kernel rbf\n",
    "cv_clf = OneVsRestClassifier(svm.SVC(C=10.0, gamma=0.001, random_state=9))\n",
    "#cv_clf.set_params(C=0.01, kernel='linear')\n",
    "#cv_clf.set_params(C=10.0, gamma=0.001, kernel='poly')\n",
    "#cv_clf.set_params(C=10000.0, gamma=9.9999999999999995e-07, kernel='sigmoid')\n",
    "kf = KFold(X_train.shape[0], 10)\n",
    "cv_scores = cross_val_score(cv_clf, X_train, y_train, cv=kf, n_jobs=-1)\n",
    "print cv_scores, 'CV accuracy: %0.2f (+/- %0.2f)' % (cv_scores.mean(), cv_scores.std()*2)"
   ]
  },
  {
   "cell_type": "code",
   "execution_count": 43,
   "metadata": {
    "collapsed": false
   },
   "outputs": [
    {
     "name": "stdout",
     "output_type": "stream",
     "text": [
      "[ 0.55272727  0.53818182  0.54014599  0.50729927  0.51459854  0.50364964\n",
      "  0.58759124  0.51459854  0.54014599  0.5       ] CV accuracy: 0.53 (+/- 0.05)\n"
     ]
    }
   ],
   "source": [
    "# kernel sigmoid\n",
    "cv_clf_sig = OneVsRestClassifier(svm.SVC(C=10000.0, gamma=9.9999999999999995e-07, kernel='sigmoid', random_state=9))\n",
    "kf_sig = KFold(X_train.shape[0], 10)\n",
    "cv_scores_sig = cross_val_score(cv_clf_sig, X_train, y_train, cv=kf_sig, n_jobs=-1)\n",
    "print cv_scores_sig, 'CV accuracy: %0.2f (+/- %0.2f)' % (cv_scores_sig.mean(), cv_scores_sig.std()*2)"
   ]
  },
  {
   "cell_type": "code",
   "execution_count": 48,
   "metadata": {
    "collapsed": false
   },
   "outputs": [
    {
     "name": "stdout",
     "output_type": "stream",
     "text": [
      "[ 0.55272727  0.53818182  0.54014599  0.50729927  0.51459854  0.50364964\n",
      "  0.58759124  0.51459854  0.54014599  0.5       ] CV accuracy: 0.53 (+/- 0.05)\n"
     ]
    }
   ],
   "source": [
    "# kernel linear\n",
    "cv_clf_lin = OneVsRestClassifier(svm.SVC(C=0.01, gamma=1.0000000000000001e-09, kernel='linear', random_state=9))\n",
    "kf_lin = KFold(X_train.shape[0], 10)\n",
    "cv_scores_lin = cross_val_score(cv_clf_sig, X_train, y_train, cv=kf_lin, n_jobs=-1)\n",
    "print cv_scores_lin, 'CV accuracy: %0.2f (+/- %0.2f)' % (cv_scores_lin.mean(), cv_scores_lin.std()*2)"
   ]
  },
  {
   "cell_type": "code",
   "execution_count": 7,
   "metadata": {
    "collapsed": false,
    "scrolled": true
   },
   "outputs": [
    {
     "name": "stdout",
     "output_type": "stream",
     "text": [
      "[ 0.68        0.64363636  0.64233577  0.64963504  0.63868613  0.62043796\n",
      "  0.67518248  0.61313869  0.6350365   0.61678832] CV accuracy: 0.64 (+/- 0.04)\n"
     ]
    }
   ],
   "source": [
    "#cv_clf = svm.LinearSVC()\n",
    "#cv_clf.set_params(C=10.0) #, gamma=0.001)\n",
    "#kf = KFold(X_train.shape[0], 10)\n",
    "#cv_scores = cross_val_score(cv_clf, X_train, y_train, cv=kf, n_jobs=-1)\n",
    "#print cv_scores, 'CV accuracy: %0.2f (+/- %0.2f)' % (cv_scores.mean(), cv_scores.std()*2)"
   ]
  },
  {
   "cell_type": "code",
   "execution_count": 16,
   "metadata": {
    "collapsed": false
   },
   "outputs": [
    {
     "data": {
      "text/plain": [
       "LinearSVC(C=10.0, class_weight=None, dual=True, fit_intercept=True,\n",
       "     intercept_scaling=1, loss='squared_hinge', max_iter=1000,\n",
       "     multi_class='ovr', penalty='l2', random_state=None, tol=0.0001,\n",
       "     verbose=0)"
      ]
     },
     "execution_count": 16,
     "metadata": {},
     "output_type": "execute_result"
    }
   ],
   "source": [
    "cv_clf.fit(X_train, y_train)"
   ]
  },
  {
   "cell_type": "code",
   "execution_count": 36,
   "metadata": {
    "collapsed": false
   },
   "outputs": [
    {
     "ename": "ValueError",
     "evalue": "coef_ is only available when using a linear kernel",
     "output_type": "error",
     "traceback": [
      "\u001b[0;31m---------------------------------------------------------------------------\u001b[0m",
      "\u001b[0;31mValueError\u001b[0m                                Traceback (most recent call last)",
      "\u001b[0;32m<ipython-input-36-b76b94ebe5bc>\u001b[0m in \u001b[0;36m<module>\u001b[0;34m()\u001b[0m\n\u001b[0;32m----> 1\u001b[0;31m \u001b[0mfeature_weights\u001b[0m \u001b[0;34m=\u001b[0m \u001b[0mcv_clf\u001b[0m\u001b[0;34m.\u001b[0m\u001b[0mcoef_\u001b[0m\u001b[0;34m\u001b[0m\u001b[0m\n\u001b[0m",
      "\u001b[0;32m/Users/eringustafson/anaconda/lib/python2.7/site-packages/sklearn/svm/base.pyc\u001b[0m in \u001b[0;36mcoef_\u001b[0;34m(self)\u001b[0m\n\u001b[1;32m    478\u001b[0m     \u001b[0;32mdef\u001b[0m \u001b[0mcoef_\u001b[0m\u001b[0;34m(\u001b[0m\u001b[0mself\u001b[0m\u001b[0;34m)\u001b[0m\u001b[0;34m:\u001b[0m\u001b[0;34m\u001b[0m\u001b[0m\n\u001b[1;32m    479\u001b[0m         \u001b[0;32mif\u001b[0m \u001b[0mself\u001b[0m\u001b[0;34m.\u001b[0m\u001b[0mkernel\u001b[0m \u001b[0;34m!=\u001b[0m \u001b[0;34m'linear'\u001b[0m\u001b[0;34m:\u001b[0m\u001b[0;34m\u001b[0m\u001b[0m\n\u001b[0;32m--> 480\u001b[0;31m             raise ValueError('coef_ is only available when using a '\n\u001b[0m\u001b[1;32m    481\u001b[0m                              'linear kernel')\n\u001b[1;32m    482\u001b[0m \u001b[0;34m\u001b[0m\u001b[0m\n",
      "\u001b[0;31mValueError\u001b[0m: coef_ is only available when using a linear kernel"
     ]
    }
   ],
   "source": [
    "feature_weights = cv_clf.coef_"
   ]
  },
  {
   "cell_type": "code",
   "execution_count": 32,
   "metadata": {
    "collapsed": true
   },
   "outputs": [],
   "source": [
    "feature_weights_class1 = feature_weights[0]\n",
    "feature_weights_class2 = feature_weights[1]\n",
    "feature_weights_class3 = feature_weights[2]\n",
    "feature_weights_class4 = feature_weights[3]\n",
    "feature_weights_class5 = feature_weights[4]"
   ]
  },
  {
   "cell_type": "code",
   "execution_count": 47,
   "metadata": {
    "collapsed": false
   },
   "outputs": [],
   "source": [
    "top_keys_class1 = sorted(range(len(feature_weights_class1)), key = lambda i: feature_weights_class1[i])[-3:]\n",
    "top_keys_class2 = sorted(range(len(feature_weights_class2)), key = lambda i: feature_weights_class2[i])[-3:]\n",
    "top_keys_class3 = sorted(range(len(feature_weights_class3)), key = lambda i: feature_weights_class3[i])[-3:]\n",
    "top_keys_class4 = sorted(range(len(feature_weights_class4)), key = lambda i: feature_weights_class4[i])[-3:]\n",
    "top_keys_class5 = sorted(range(len(feature_weights_class5)), key = lambda i: feature_weights_class5[i])[-3:]"
   ]
  },
  {
   "cell_type": "code",
   "execution_count": 54,
   "metadata": {
    "collapsed": false
   },
   "outputs": [],
   "source": [
    "with open('ngram_map_trim.txt', 'r') as rf:\n",
    "    ngram_map_trim = json.loads(rf.read())"
   ]
  },
  {
   "cell_type": "code",
   "execution_count": 56,
   "metadata": {
    "collapsed": true
   },
   "outputs": [],
   "source": [
    "ngram_map_trim_flip = dict((v,k) for k,v in ngram_map_trim.iteritems())"
   ]
  },
  {
   "cell_type": "code",
   "execution_count": 97,
   "metadata": {
    "collapsed": false
   },
   "outputs": [
    {
     "data": {
      "text/plain": [
       "u'gap'"
      ]
     },
     "execution_count": 97,
     "metadata": {},
     "output_type": "execute_result"
    }
   ],
   "source": [
    "ngram_map_trim_flip[indices_dict[top_keys_class5[2]]]"
   ]
  },
  {
   "cell_type": "code",
   "execution_count": 18,
   "metadata": {
    "collapsed": false
   },
   "outputs": [
    {
     "name": "stdout",
     "output_type": "stream",
     "text": [
      "[[ 95  13   0   0  10]\n",
      " [ 24  27   0   0   9]\n",
      " [  1   0   0   0   1]\n",
      " [  1   2   0   1   9]\n",
      " [  6   5   0   0 101]]\n"
     ]
    }
   ],
   "source": [
    "y_pred = cv_clf.predict(X_test)\n",
    "print(confusion_matrix(y_test, y_pred, labels=range(5)))"
   ]
  },
  {
   "cell_type": "code",
   "execution_count": 56,
   "metadata": {
    "collapsed": false
   },
   "outputs": [
    {
     "name": "stdout",
     "output_type": "stream",
     "text": [
      "Accuracy: 0.6295\n",
      "Total: 305, Correctly classified: 192.0\n"
     ]
    }
   ],
   "source": [
    "# set final parameters\n",
    "clf = OneVsRestClassifier(svm.SVC(C=10.0, gamma=0.001, random_state=9))\n",
    "clf.fit(X_train, y_train)\n",
    "#clf.set_params(C=10, gamma=0.001)\n",
    "#clf.set_params(C=0.01, kernel='linear')\n",
    "#clf.set_params(C=10, gamma=0.001, kernel='poly')\n",
    "#clf.set_params(C=10000.0, gamma=9.9999999999999995e-07, kernel='sigmoid')\n",
    "\n",
    "# accuracy of final model on the test set\n",
    "acc = clf.score(X_test, y_test)\n",
    "print('Accuracy: {:.4f}'.format(acc))\n",
    "print ('Total: ' + str(len(y_test)) + ', Correctly classified: ' + str(len(y_test)*acc))"
   ]
  },
  {
   "cell_type": "code",
   "execution_count": 45,
   "metadata": {
    "collapsed": false
   },
   "outputs": [
    {
     "name": "stdout",
     "output_type": "stream",
     "text": [
      "Accuracy: 0.5574 305\n",
      "Total: 305, Correctly classified: 170.0\n"
     ]
    }
   ],
   "source": [
    "# set final parameters\n",
    "clf_sig = OneVsRestClassifier(svm.SVC(C=10000.0, gamma=9.9999999999999995e-07, kernel='sigmoid', random_state=9))\n",
    "clf_sig.fit(X_train, y_train)\n",
    "\n",
    "# accuracy of final model on the test set\n",
    "acc_sig = clf_sig.score(X_test, y_test)\n",
    "print('Accuracy: {:.4f}'.format(acc_sig)), len(y_test)\n",
    "print ('Total: ' + str(len(y_test)) + ', Correctly classified: ' + str(len(y_test)*acc_sig))"
   ]
  },
  {
   "cell_type": "code",
   "execution_count": 49,
   "metadata": {
    "collapsed": false
   },
   "outputs": [
    {
     "name": "stdout",
     "output_type": "stream",
     "text": [
      "Accuracy: 0.5574 305\n",
      "Total: 305, Correctly classified: 170.0\n"
     ]
    }
   ],
   "source": [
    "# set final parameters\n",
    "clf_lin = OneVsRestClassifier(svm.SVC(C=0.01, gamma=1.0000000000000001e-09, kernel='linear', random_state=9))\n",
    "clf_lin.fit(X_train, y_train)\n",
    "\n",
    "# accuracy of final model on the test set\n",
    "acc_lin = clf_lin.score(X_test, y_test)\n",
    "print('Accuracy: {:.4f}'.format(acc_lin)), len(y_test)\n",
    "print ('Total: ' + str(len(y_test)) + ', Correctly classified: ' + str(len(y_test)*acc_lin))"
   ]
  },
  {
   "cell_type": "code",
   "execution_count": 128,
   "metadata": {
    "collapsed": false
   },
   "outputs": [],
   "source": [
    "#def vectorize(labels):\n",
    "#    vectorized_labels = np.zeros((len(labels), 5))\n",
    "#    for i in range(len(labels)):  \n",
    "#        vectorized_labels[i][int(labels[i])] = 1\n",
    "#    return vectorized_labels\n",
    "\n",
    "#y_test_vect = vectorize(y_test)\n",
    "#y_pred_vect = vectorize(clf.predict(X_test))\n",
    "#roc_scores = roc_auc_score(y_test_vect, y_pred_vect)"
   ]
  },
  {
   "cell_type": "code",
   "execution_count": 57,
   "metadata": {
    "collapsed": false,
    "scrolled": true
   },
   "outputs": [
    {
     "data": {
      "text/plain": [
       "0.8065573770491804"
      ]
     },
     "execution_count": 57,
     "metadata": {},
     "output_type": "execute_result"
    }
   ],
   "source": [
    "y_test_vect = label_binarize(y_test, classes=[0, 1, 2, 3, 4])\n",
    "y_pred = clf.predict(X_test)\n",
    "y_pred_vect = label_binarize(y_pred, classes=[0, 1, 2, 3, 4])\n",
    "roc_scores = roc_auc_score(y_test_vect, y_pred_vect, average='micro')\n",
    "roc_scores"
   ]
  },
  {
   "cell_type": "code",
   "execution_count": 58,
   "metadata": {
    "collapsed": false
   },
   "outputs": [
    {
     "data": {
      "text/plain": [
       "0.78647540983606556"
      ]
     },
     "execution_count": 58,
     "metadata": {},
     "output_type": "execute_result"
    }
   ],
   "source": [
    "y_test_vect = label_binarize(y_test, classes=[0, 1, 2, 3, 4])\n",
    "y_pred = clf_sig.predict(X_test)\n",
    "y_pred_vect = label_binarize(y_pred, classes=[0, 1, 2, 3, 4])\n",
    "roc_scores_sig = roc_auc_score(y_test_vect, y_pred_vect, average='micro')\n",
    "roc_scores_sig"
   ]
  },
  {
   "cell_type": "code",
   "execution_count": 59,
   "metadata": {
    "collapsed": false
   },
   "outputs": [
    {
     "data": {
      "text/plain": [
       "0.78647540983606556"
      ]
     },
     "execution_count": 59,
     "metadata": {},
     "output_type": "execute_result"
    }
   ],
   "source": [
    "y_test_vect = label_binarize(y_test, classes=[0, 1, 2, 3, 4])\n",
    "y_pred = clf_lin.predict(X_test)\n",
    "y_pred_vect = label_binarize(y_pred, classes=[0, 1, 2, 3, 4])\n",
    "roc_scores_lin = roc_auc_score(y_test_vect, y_pred_vect, average='micro')\n",
    "roc_scores_lin"
   ]
  },
  {
   "cell_type": "code",
   "execution_count": null,
   "metadata": {
    "collapsed": true
   },
   "outputs": [],
   "source": []
  }
 ],
 "metadata": {
  "kernelspec": {
   "display_name": "Python 2",
   "language": "python",
   "name": "python2"
  },
  "language_info": {
   "codemirror_mode": {
    "name": "ipython",
    "version": 2
   },
   "file_extension": ".py",
   "mimetype": "text/x-python",
   "name": "python",
   "nbconvert_exporter": "python",
   "pygments_lexer": "ipython2",
   "version": "2.7.11"
  }
 },
 "nbformat": 4,
 "nbformat_minor": 0
}
