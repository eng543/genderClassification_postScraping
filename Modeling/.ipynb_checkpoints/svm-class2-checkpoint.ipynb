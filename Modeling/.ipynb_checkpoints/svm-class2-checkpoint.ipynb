{
 "cells": [
  {
   "cell_type": "code",
   "execution_count": 5,
   "metadata": {
    "collapsed": false
   },
   "outputs": [],
   "source": [
    "from sklearn import svm\n",
    "from sklearn.grid_search import GridSearchCV\n",
    "from sklearn.cross_validation import KFold, train_test_split, cross_val_score\n",
    "from sklearn.feature_selection import VarianceThreshold\n",
    "from sklearn.metrics import confusion_matrix, roc_auc_score\n",
    "from sklearn.decomposition import PCA\n",
    "from sklearn.multiclass import OneVsRestClassifier\n",
    "import numpy as np"
   ]
  },
  {
   "cell_type": "code",
   "execution_count": 6,
   "metadata": {
    "collapsed": false
   },
   "outputs": [],
   "source": [
    "X_array = np.load('outputMatrix_userTrimmed.npz')\n",
    "X = X_array['matrix']"
   ]
  },
  {
   "cell_type": "code",
   "execution_count": 4,
   "metadata": {
    "collapsed": false
   },
   "outputs": [
    {
     "data": {
      "text/plain": [
       "(3047, 65871)"
      ]
     },
     "execution_count": 4,
     "metadata": {},
     "output_type": "execute_result"
    }
   ],
   "source": [
    "X.shape"
   ]
  },
  {
   "cell_type": "code",
   "execution_count": 7,
   "metadata": {
    "collapsed": false
   },
   "outputs": [
    {
     "data": {
      "text/plain": [
       "(3047, 2838)"
      ]
     },
     "execution_count": 7,
     "metadata": {},
     "output_type": "execute_result"
    }
   ],
   "source": [
    "# remove features with low variance (ie more than 80% samples have same value)\n",
    "sel = VarianceThreshold(threshold=(.8 * (1 - .8)))\n",
    "X_sel = sel.fit_transform(X)\n",
    "X_sel.shape"
   ]
  },
  {
   "cell_type": "code",
   "execution_count": 8,
   "metadata": {
    "collapsed": false
   },
   "outputs": [],
   "source": [
    "# alternative: PCA for dimensionality reduction\n",
    "#sel = PCA()\n",
    "#pca = sel.fit(X)\n",
    "#print pca.explained_variance_ratio_\n",
    "#X_sel = sel.fit_transform(X)"
   ]
  },
  {
   "cell_type": "code",
   "execution_count": 17,
   "metadata": {
    "collapsed": false
   },
   "outputs": [
    {
     "data": {
      "text/plain": [
       "(3047, 3047)"
      ]
     },
     "execution_count": 17,
     "metadata": {},
     "output_type": "execute_result"
    }
   ],
   "source": [
    "X_sel.shape"
   ]
  },
  {
   "cell_type": "code",
   "execution_count": 9,
   "metadata": {
    "collapsed": false
   },
   "outputs": [],
   "source": [
    "y_array = np.load('user_class_array_scheme2.npz')\n",
    "y_np = y_array['matrix']"
   ]
  },
  {
   "cell_type": "code",
   "execution_count": 10,
   "metadata": {
    "collapsed": false
   },
   "outputs": [],
   "source": [
    "#X = X_np.tolist()\n",
    "y = y_np.tolist()[0]"
   ]
  },
  {
   "cell_type": "code",
   "execution_count": 7,
   "metadata": {
    "collapsed": false
   },
   "outputs": [
    {
     "data": {
      "text/plain": [
       "[(0.0, 1676), (1.0, 1371)]"
      ]
     },
     "execution_count": 7,
     "metadata": {},
     "output_type": "execute_result"
    }
   ],
   "source": [
    "from collections import Counter\n",
    "data = Counter(y)\n",
    "data.most_common()\n",
    "# zero-r\n",
    "1676/float(len(y))"
   ]
  },
  {
   "cell_type": "code",
   "execution_count": 11,
   "metadata": {
    "collapsed": true
   },
   "outputs": [],
   "source": [
    "X_train, X_test, y_train, y_test = train_test_split(X_sel, y, test_size=0.1,\n",
    "                                                    random_state=9)"
   ]
  },
  {
   "cell_type": "code",
   "execution_count": 12,
   "metadata": {
    "collapsed": false
   },
   "outputs": [
    {
     "name": "stdout",
     "output_type": "stream",
     "text": [
      "[ 0.92363636  0.88        0.89051095  0.86861314  0.88686131  0.8649635\n",
      "  0.89781022  0.89051095  0.84671533  0.86131387] CV accuracy: 0.88 (+/- 0.04)\n"
     ]
    }
   ],
   "source": [
    "# kernel rbf\n",
    "cv_clf = OneVsRestClassifier(svm.SVC(C=10.0, gamma=0.001, random_state=9))\n",
    "kf = KFold(X_train.shape[0], 10)\n",
    "cv_scores = cross_val_score(cv_clf, X_train, y_train, cv=kf, n_jobs=-1)\n",
    "print cv_scores, 'CV accuracy: %0.2f (+/- %0.2f)' % (cv_scores.mean(), cv_scores.std()*2)"
   ]
  },
  {
   "cell_type": "code",
   "execution_count": null,
   "metadata": {
    "collapsed": true
   },
   "outputs": [],
   "source": [
    "# kernel sigmoid\n",
    "cv_clf_sig = OneVsRestClassifier(svm.SVC(C=10000000.0, gamma=9.9999999999999995e-07, kernel='sigmoid', random_state=9))\n",
    "kf_sig = KFold(X_train.shape[0], 10)\n",
    "cv_scores_sig = cross_val_score(cv_clf_sig, X_train, y_train, cv=kf_sig, n_jobs=-1)\n",
    "print cv_scores_sig, 'CV accuracy: %0.2f (+/- %0.2f)' % (cv_scores_sig.mean(), cv_scores_sig.std()*2)"
   ]
  },
  {
   "cell_type": "code",
   "execution_count": 16,
   "metadata": {
    "collapsed": false,
    "scrolled": true
   },
   "outputs": [
    {
     "name": "stdout",
     "output_type": "stream",
     "text": [
      "[ 0.91272727  0.89454545  0.89051095  0.87591241  0.89781022  0.87591241\n",
      "  0.91605839  0.89051095  0.86131387  0.89416058] CV accuracy: 0.89 (+/- 0.03)\n"
     ]
    }
   ],
   "source": [
    "# kernel linear\n",
    "cv_clf_lin = OneVsRestClassifier(svm.SVC(C=10.0, gamma=0.001, kernel='linear', random_state=9))\n",
    "kf_lin = KFold(X_train.shape[0], 10)\n",
    "cv_scores_lin = cross_val_score(cv_clf_sig, X_train, y_train, cv=kf_lin, n_jobs=-1)\n",
    "print cv_scores_lin, 'CV accuracy: %0.2f (+/- %0.2f)' % (cv_scores_lin.mean(), cv_scores_lin.std()*2)"
   ]
  },
  {
   "cell_type": "code",
   "execution_count": 18,
   "metadata": {
    "collapsed": false
   },
   "outputs": [
    {
     "name": "stdout",
     "output_type": "stream",
     "text": [
      "[[ 95  13   0   0  10]\n",
      " [ 24  27   0   0   9]\n",
      " [  1   0   0   0   1]\n",
      " [  1   2   0   1   9]\n",
      " [  6   5   0   0 101]]\n"
     ]
    }
   ],
   "source": [
    "y_pred = cv_clf.predict(X_test)\n",
    "print(confusion_matrix(y_test, y_pred, labels=range(5)))"
   ]
  },
  {
   "cell_type": "code",
   "execution_count": 13,
   "metadata": {
    "collapsed": false
   },
   "outputs": [
    {
     "name": "stdout",
     "output_type": "stream",
     "text": [
      "Accuracy: 0.8918\n",
      "Total: 305, Correctly classified: 272.0\n"
     ]
    }
   ],
   "source": [
    "# final parameters, rbf\n",
    "clf = OneVsRestClassifier(svm.SVC(C=10.0, gamma=0.001, random_state=9))\n",
    "clf.fit(X_train, y_train)\n",
    "\n",
    "# accuracy of final model on the test set\n",
    "acc = clf.score(X_test, y_test)\n",
    "print('Accuracy: {:.4f}'.format(acc))\n",
    "print ('Total: ' + str(len(y_test)) + ', Correctly classified: ' + str(len(y_test)*acc))"
   ]
  },
  {
   "cell_type": "code",
   "execution_count": null,
   "metadata": {
    "collapsed": true
   },
   "outputs": [],
   "source": [
    "# final parameters, sigmoid\n",
    "clf_sig = OneVsRestClassifier(svm.SVC(C=10.0, gamma=0.001, kernel = 'sigmoid', random_state=9))\n",
    "clf_sig.fit(X_train, y_train)\n",
    "\n",
    "# accuracy of final model on the test set\n",
    "acc_sig = clf_sig.score(X_test, y_test)\n",
    "print('Accuracy: {:.4f}'.format(acc))\n",
    "print ('Total: ' + str(len(y_test)) + ', Correctly classified: ' + str(len(y_test)*acc_sig))"
   ]
  },
  {
   "cell_type": "code",
   "execution_count": 17,
   "metadata": {
    "collapsed": false
   },
   "outputs": [
    {
     "name": "stdout",
     "output_type": "stream",
     "text": [
      "Accuracy: 0.8689 305\n",
      "Total: 305, Correctly classified: 265.0\n"
     ]
    }
   ],
   "source": [
    "# final parameters, linear\n",
    "clf_lin = OneVsRestClassifier(svm.SVC(C=10.0, gamma=0.001, kernel = 'linear', random_state=9))\n",
    "clf_lin.fit(X_train, y_train)\n",
    "clf_lin.set_params(C=10)\n",
    "\n",
    "# accuracy of final model on the test set\n",
    "acc_lin = clf.score(X_test, y_test)\n",
    "print('Accuracy: {:.4f}'.format(acc_lin)), len(y_test)\n",
    "print ('Total: ' + str(len(y_test)) + ', Correctly classified: ' + str(len(y_test)*acc_lin))"
   ]
  },
  {
   "cell_type": "code",
   "execution_count": 14,
   "metadata": {
    "collapsed": false,
    "scrolled": true
   },
   "outputs": [
    {
     "data": {
      "text/plain": [
       "0.88812704591701319"
      ]
     },
     "execution_count": 14,
     "metadata": {},
     "output_type": "execute_result"
    }
   ],
   "source": [
    "y_pred = clf.predict(X_test)\n",
    "roc_scores = roc_auc_score(y_test, y_pred, average='micro')\n",
    "roc_scores"
   ]
  },
  {
   "cell_type": "code",
   "execution_count": 19,
   "metadata": {
    "collapsed": false
   },
   "outputs": [
    {
     "data": {
      "text/plain": [
       "0.86395204812881521"
      ]
     },
     "execution_count": 19,
     "metadata": {},
     "output_type": "execute_result"
    }
   ],
   "source": [
    "y_pred_sig = clf_sig.predict(X_test)\n",
    "roc_scores_sig = roc_auc_score(y_test, y_pred_sig, average='micro')\n",
    "roc_scores_sig"
   ]
  },
  {
   "cell_type": "code",
   "execution_count": null,
   "metadata": {
    "collapsed": true
   },
   "outputs": [],
   "source": [
    "y_pred_lin = clf_lin.predict(X_test)\n",
    "roc_scores_lin = roc_auc_score(y_test, y_pred_lin, average='micro')\n",
    "roc_scores_lin"
   ]
  }
 ],
 "metadata": {
  "kernelspec": {
   "display_name": "Python 2",
   "language": "python",
   "name": "python2"
  },
  "language_info": {
   "codemirror_mode": {
    "name": "ipython",
    "version": 2
   },
   "file_extension": ".py",
   "mimetype": "text/x-python",
   "name": "python",
   "nbconvert_exporter": "python",
   "pygments_lexer": "ipython2",
   "version": "2.7.11"
  }
 },
 "nbformat": 4,
 "nbformat_minor": 0
}
