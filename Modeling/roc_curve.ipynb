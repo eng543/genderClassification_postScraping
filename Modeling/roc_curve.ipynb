{
 "cells": [
  {
   "cell_type": "code",
   "execution_count": 1,
   "metadata": {
    "collapsed": true
   },
   "outputs": [],
   "source": [
    "%matplotlib inline"
   ]
  },
  {
   "cell_type": "code",
   "execution_count": 60,
   "metadata": {
    "collapsed": true
   },
   "outputs": [],
   "source": [
    "import numpy as np\n",
    "import matplotlib.pyplot as plt\n",
    "from sklearn import svm, datasets\n",
    "from sklearn import neighbors\n",
    "from sklearn.metrics import roc_curve, auc\n",
    "from sklearn.cross_validation import train_test_split\n",
    "from sklearn.preprocessing import label_binarize\n",
    "from sklearn.multiclass import OneVsRestClassifier\n",
    "from sklearn.feature_selection import VarianceThreshold\n",
    "from scipy import interp"
   ]
  },
  {
   "cell_type": "code",
   "execution_count": 3,
   "metadata": {
    "collapsed": true
   },
   "outputs": [],
   "source": [
    "X_array = np.load('outputMatrix_userTrimmed.npz')\n",
    "X = X_array['matrix']"
   ]
  },
  {
   "cell_type": "code",
   "execution_count": 4,
   "metadata": {
    "collapsed": false
   },
   "outputs": [
    {
     "data": {
      "text/plain": [
       "(3047, 2838)"
      ]
     },
     "execution_count": 4,
     "metadata": {},
     "output_type": "execute_result"
    }
   ],
   "source": [
    "# remove features with low variance (ie more than 80% samples have same value)\n",
    "sel = VarianceThreshold(threshold=(.8 * (1 - .8)))\n",
    "X_sel = sel.fit_transform(X)\n",
    "X_sel.shape"
   ]
  },
  {
   "cell_type": "code",
   "execution_count": 63,
   "metadata": {
    "collapsed": true
   },
   "outputs": [],
   "source": [
    "y_array = np.load('user_class_array.npz')\n",
    "y_np = y_array['matrix']\n",
    "y = y_np.tolist()[0]\n",
    "y = label_binarize(y, classes=[0, 1, 2, 3, 4])"
   ]
  },
  {
   "cell_type": "code",
   "execution_count": 64,
   "metadata": {
    "collapsed": true
   },
   "outputs": [],
   "source": [
    "X_train, X_test, y_train, y_test = train_test_split(X_sel, y, test_size=0.1,\n",
    "                                                    random_state=9)"
   ]
  },
  {
   "cell_type": "code",
   "execution_count": 102,
   "metadata": {
    "collapsed": false
   },
   "outputs": [],
   "source": [
    "svm_rbf = OneVsRestClassifier(svm.SVC(C=10, gamma=0.001, random_state=9)) # , probability=True))\n",
    "y_score_rbf = svm_rbf.fit(X_train, y_train).decision_function(X_test)\n",
    "#y_score_rbf = svm_rbf.fit(X_train, y_train).predict_proba(X_test)"
   ]
  },
  {
   "cell_type": "code",
   "execution_count": 98,
   "metadata": {
    "collapsed": false
   },
   "outputs": [
    {
     "data": {
      "text/plain": [
       "(305,)"
      ]
     },
     "execution_count": 98,
     "metadata": {},
     "output_type": "execute_result"
    }
   ],
   "source": [
    "y_score_rbf[:,0].shape"
   ]
  },
  {
   "cell_type": "code",
   "execution_count": 99,
   "metadata": {
    "collapsed": false
   },
   "outputs": [
    {
     "data": {
      "text/plain": [
       "(305, 5)"
      ]
     },
     "execution_count": 99,
     "metadata": {},
     "output_type": "execute_result"
    }
   ],
   "source": [
    "y_test.shape"
   ]
  },
  {
   "cell_type": "code",
   "execution_count": 108,
   "metadata": {
    "collapsed": false
   },
   "outputs": [],
   "source": [
    "# SVM_RBF\n",
    "fpr_svm = dict()\n",
    "tpr_svm = dict()\n",
    "roc_auc_svm = dict()\n",
    "n_classes = 5\n",
    "for i in range(n_classes):\n",
    "#    scores = y_score_rbf[i]\n",
    "#    name = \"svm_class\" + str(i)\n",
    "    fpr_svm[i], tpr_svm[i], _ = roc_curve(y_test[:, i], y_score_rbf[:, i])\n",
    "#    fpr[name], tpr[name], _ = roc_curve(y_test[:, i], scores[:, 1])\n",
    "    roc_auc_svm[i] = auc(fpr_svm[i], tpr_svm[i])\n",
    "\n",
    "fpr_svm[\"micro\"], tpr_svm[\"micro\"], _ = roc_curve(y_test.ravel(), y_score_rbf.ravel())\n",
    "roc_auc_svm[\"micro\"] = auc(fpr_svm[\"micro\"], tpr_svm[\"micro\"])"
   ]
  },
  {
   "cell_type": "code",
   "execution_count": 117,
   "metadata": {
    "collapsed": false
   },
   "outputs": [
    {
     "name": "stdout",
     "output_type": "stream",
     "text": [
      "(1525,)\n",
      "(1525,)\n"
     ]
    }
   ],
   "source": [
    "print y_score_rbf.ravel().shape\n",
    "print y_test.ravel().shape"
   ]
  },
  {
   "cell_type": "code",
   "execution_count": 110,
   "metadata": {
    "collapsed": false
   },
   "outputs": [
    {
     "data": {
      "text/plain": [
       "{0: 0.8947702347502946,\n",
       " 1: 0.80727891156462595,\n",
       " 2: 0.49009900990099009,\n",
       " 3: 0.84984193888303483,\n",
       " 4: 0.91464655810510731,\n",
       " 'micro': 0.92090298306906748}"
      ]
     },
     "execution_count": 110,
     "metadata": {},
     "output_type": "execute_result"
    }
   ],
   "source": [
    "roc_auc_svm"
   ]
  },
  {
   "cell_type": "code",
   "execution_count": 105,
   "metadata": {
    "collapsed": true
   },
   "outputs": [],
   "source": [
    "knn = neighbors.KNeighborsClassifier(19, metric='jaccard')\n",
    "knn.fit(X_train, y_train)\n",
    "y_score_knn = knn.predict_proba(X_test)"
   ]
  },
  {
   "cell_type": "code",
   "execution_count": 155,
   "metadata": {
    "collapsed": false
   },
   "outputs": [],
   "source": [
    "# knn\n",
    "fpr_knn = dict()\n",
    "tpr_knn = dict()\n",
    "roc_auc_knn = dict()\n",
    "for i in range(n_classes):\n",
    "    scores = y_score_knn[i]\n",
    "#    name = \"knn_class\" + str(i)\n",
    "#    fpr[i], tpr[i], _ = roc_curve(y_test[:, i], scores[:, i])\n",
    "    fpr_knn[i], tpr_knn[i], _ = roc_curve(y_test[:, i], scores[:, 1])\n",
    "    roc_auc_knn[i] = auc(fpr_knn[i], tpr_knn[i])\n",
    "    \n",
    "scores_raveled_1 = y_score_knn[0][:, 1].ravel()\n",
    "scores_raveled_2 = y_score_knn[1][:, 1].ravel()\n",
    "scores_raveled_3 = y_score_knn[2][:, 1].ravel()\n",
    "scores_raveled_4 = y_score_knn[3][:, 1].ravel()\n",
    "scores_raveled_5 = y_score_knn[4][:, 1].ravel()\n",
    "\n",
    "scores_raveled = np.concatenate((scores_raveled_1, scores_raveled_2))\n",
    "scores_raveled = np.concatenate((scores_raveled, scores_raveled_3))\n",
    "scores_raveled = np.concatenate((scores_raveled, scores_raveled_4))\n",
    "scores_raveled = np.concatenate((scores_raveled, scores_raveled_5))\n",
    "\n",
    "#scores_raveled = np.empty([1525,])\n",
    "#for i in range(n_classes):\n",
    "#   if i == 0:\n",
    "#        scores_raveled = y_score_knn[1][:, 1].ravel()\n",
    "#    else:\n",
    "#        np.append(scores_raveled, y_score_knn[1][:, 1].ravel())\n",
    "\n",
    "fpr_knn[\"micro\"], tpr_knn[\"micro\"], _ = roc_curve(y_test.ravel(), scores_raveled)\n",
    "roc_auc_knn[\"micro\"] = auc(fpr_knn[\"micro\"], tpr_knn[\"micro\"])"
   ]
  },
  {
   "cell_type": "code",
   "execution_count": 156,
   "metadata": {
    "collapsed": false
   },
   "outputs": [
    {
     "data": {
      "text/plain": [
       "{0: 0.83669446206834042,\n",
       " 1: 0.76183673469387747,\n",
       " 2: 0.68234323432343236,\n",
       " 3: 0.67953108535300322,\n",
       " 4: 0.89757586972612868,\n",
       " 'micro': 0.50486159634506844}"
      ]
     },
     "execution_count": 156,
     "metadata": {},
     "output_type": "execute_result"
    }
   ],
   "source": [
    "roc_auc_knn"
   ]
  },
  {
   "cell_type": "code",
   "execution_count": 152,
   "metadata": {
    "collapsed": false
   },
   "outputs": [
    {
     "data": {
      "text/plain": [
       "(305, 5)"
      ]
     },
     "execution_count": 152,
     "metadata": {},
     "output_type": "execute_result"
    }
   ],
   "source": [
    "y_test.shape"
   ]
  },
  {
   "cell_type": "code",
   "execution_count": 120,
   "metadata": {
    "collapsed": false
   },
   "outputs": [
    {
     "ename": "AttributeError",
     "evalue": "'list' object has no attribute 'shape'",
     "output_type": "error",
     "traceback": [
      "\u001b[0;31m---------------------------------------------------------------------------\u001b[0m",
      "\u001b[0;31mAttributeError\u001b[0m                            Traceback (most recent call last)",
      "\u001b[0;32m<ipython-input-120-5e9ef92b2798>\u001b[0m in \u001b[0;36m<module>\u001b[0;34m()\u001b[0m\n\u001b[0;32m----> 1\u001b[0;31m \u001b[0mscores_raveled\u001b[0m\u001b[0;34m.\u001b[0m\u001b[0mshape\u001b[0m\u001b[0;34m\u001b[0m\u001b[0m\n\u001b[0m",
      "\u001b[0;31mAttributeError\u001b[0m: 'list' object has no attribute 'shape'"
     ]
    }
   ],
   "source": [
    "scores_raveled.shape"
   ]
  },
  {
   "cell_type": "code",
   "execution_count": 56,
   "metadata": {
    "collapsed": true
   },
   "outputs": [],
   "source": [
    "# Compute macro-average ROC curve and ROC area\n",
    "\n",
    "# First aggregate all false positive rates\n",
    "all_fpr = np.unique(np.concatenate([fpr[i] for i in range(n_classes)]))\n",
    "\n",
    "# Then interpolate all ROC curves at this points\n",
    "mean_tpr = np.zeros_like(all_fpr)\n",
    "for i in range(n_classes):\n",
    "    mean_tpr += interp(all_fpr, fpr[i], tpr[i])\n",
    "\n",
    "# Finally average it and compute AUC\n",
    "mean_tpr /= n_classes\n",
    "\n",
    "fpr[\"macro\"] = all_fpr\n",
    "tpr[\"macro\"] = mean_tpr\n",
    "roc_auc[\"macro\"] = auc(fpr[\"macro\"], tpr[\"macro\"])"
   ]
  },
  {
   "cell_type": "code",
   "execution_count": 57,
   "metadata": {
    "collapsed": false
   },
   "outputs": [
    {
     "data": {
      "text/plain": [
       "{0: 0.8947702347502946,\n",
       " 1: 0.80727891156462595,\n",
       " 2: 0.49009900990099009,\n",
       " 3: 0.84984193888303483,\n",
       " 4: 0.91464655810510731,\n",
       " 'macro': 0.79430156513180139,\n",
       " 'micro': 0.92090298306906748}"
      ]
     },
     "execution_count": 57,
     "metadata": {},
     "output_type": "execute_result"
    }
   ],
   "source": [
    "roc_auc"
   ]
  },
  {
   "cell_type": "code",
   "execution_count": 58,
   "metadata": {
    "collapsed": false
   },
   "outputs": [
    {
     "data": {
      "image/png": "[encoded data removed]",
      "text/plain": [
       "<matplotlib.figure.Figure at 0x10bfa1b50>"
      ]
     },
     "metadata": {},
     "output_type": "display_data"
    }
   ],
   "source": [
    "# Plot all ROC curves\n",
    "plt.figure()\n",
    "plt.plot(fpr[\"micro\"], tpr[\"micro\"],\n",
    "         label='micro-average ROC curve (area = {0:0.2f})'\n",
    "               ''.format(roc_auc[\"micro\"]),\n",
    "         linewidth=2)\n",
    "\n",
    "plt.plot(fpr[\"macro\"], tpr[\"macro\"],\n",
    "         label='macro-average ROC curve (area = {0:0.2f})'\n",
    "               ''.format(roc_auc[\"macro\"]),\n",
    "         linewidth=2)\n",
    "\n",
    "for i in range(n_classes):\n",
    "    plt.plot(fpr[i], tpr[i], label='ROC curve of class {0} (area = {1:0.2f})'\n",
    "                                   ''.format(i, roc_auc[i]))\n",
    "plt.plot([0, 1], [0, 1], 'k--')\n",
    "plt.xlim([0.0, 1.0])\n",
    "plt.ylim([0.0, 1.05])\n",
    "plt.xlabel('False Positive Rate')\n",
    "plt.ylabel('True Positive Rate')\n",
    "plt.title('Receiver operating characteristic curve')\n",
    "plt.legend(loc=\"lower right\")\n",
    "plt.show()"
   ]
  },
  {
   "cell_type": "code",
   "execution_count": null,
   "metadata": {
    "collapsed": true
   },
   "outputs": [],
   "source": []
  }
 ],
 "metadata": {
  "kernelspec": {
   "display_name": "Python 2",
   "language": "python",
   "name": "python2"
  },
  "language_info": {
   "codemirror_mode": {
    "name": "ipython",
    "version": 2
   },
   "file_extension": ".py",
   "mimetype": "text/x-python",
   "name": "python",
   "nbconvert_exporter": "python",
   "pygments_lexer": "ipython2",
   "version": "2.7.11"
  }
 },
 "nbformat": 4,
 "nbformat_minor": 0
}
