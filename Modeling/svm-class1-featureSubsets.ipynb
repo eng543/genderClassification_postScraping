{
 "cells": [
  {
   "cell_type": "code",
   "execution_count": 2,
   "metadata": {
    "collapsed": false
   },
   "outputs": [],
   "source": [
    "from sklearn import svm\n",
    "from sklearn.grid_search import GridSearchCV\n",
    "from sklearn.cross_validation import KFold, train_test_split, cross_val_score\n",
    "from sklearn.feature_selection import VarianceThreshold\n",
    "from sklearn.metrics import confusion_matrix\n",
    "from sklearn.decomposition import PCA\n",
    "import numpy as np"
   ]
  },
  {
   "cell_type": "code",
   "execution_count": 3,
   "metadata": {
    "collapsed": false
   },
   "outputs": [],
   "source": [
    "# unigrams\n",
    "X_unigrams_array = np.load('outputMatrix_unigramsTrimmed.npz')\n",
    "X_unigrams = X_unigrams_array['matrix']"
   ]
  },
  {
   "cell_type": "code",
   "execution_count": 5,
   "metadata": {
    "collapsed": false
   },
   "outputs": [
    {
     "data": {
      "text/plain": [
       "(3047, 18243)"
      ]
     },
     "execution_count": 5,
     "metadata": {},
     "output_type": "execute_result"
    }
   ],
   "source": [
    "X_unigrams.shape"
   ]
  },
  {
   "cell_type": "code",
   "execution_count": 7,
   "metadata": {
    "collapsed": false
   },
   "outputs": [
    {
     "data": {
      "text/plain": [
       "(3047, 1500)"
      ]
     },
     "execution_count": 7,
     "metadata": {},
     "output_type": "execute_result"
    }
   ],
   "source": [
    "# remove features with low variance (ie more than 80% samples have same value)\n",
    "unigrams_sel = VarianceThreshold(threshold=(.8 * (1 - .8)))\n",
    "X_unigrams_sel = unigrams_sel.fit_transform(X_unigrams)\n",
    "X_unigrams_sel.shape"
   ]
  },
  {
   "cell_type": "code",
   "execution_count": 10,
   "metadata": {
    "collapsed": false
   },
   "outputs": [
    {
     "name": "stdout",
     "output_type": "stream",
     "text": [
      "[  8.34908026e-02   1.50086412e-02   9.66355408e-03 ...,   2.39873001e-06\n",
      "   7.73328809e-14   1.21697822e-32]\n"
     ]
    }
   ],
   "source": [
    "# alternative: PCA for dimensionality reduction\n",
    "sel = PCA()\n",
    "pca = sel.fit(X)\n",
    "print pca.explained_variance_ratio_\n",
    "X_sel = sel.fit_transform(X)"
   ]
  },
  {
   "cell_type": "code",
   "execution_count": 9,
   "metadata": {
    "collapsed": false
   },
   "outputs": [],
   "source": [
    "y_array = np.load('user_class_array.npz')\n",
    "y_np = y_array['matrix']\n",
    "y = y_np.tolist()[0]"
   ]
  },
  {
   "cell_type": "code",
   "execution_count": 8,
   "metadata": {
    "collapsed": false
   },
   "outputs": [
    {
     "data": {
      "text/plain": [
       "[(4.0, 1195), (0.0, 1053), (1.0, 623), (3.0, 152), (2.0, 24)]"
      ]
     },
     "execution_count": 8,
     "metadata": {},
     "output_type": "execute_result"
    }
   ],
   "source": [
    "from collections import Counter\n",
    "data = Counter(y)\n",
    "data.most_common()"
   ]
  },
  {
   "cell_type": "code",
   "execution_count": 9,
   "metadata": {
    "collapsed": false
   },
   "outputs": [
    {
     "data": {
      "text/plain": [
       "0.39218903839842467"
      ]
     },
     "execution_count": 9,
     "metadata": {},
     "output_type": "execute_result"
    }
   ],
   "source": [
    "# zero-r\n",
    "1195/float(len(y))"
   ]
  },
  {
   "cell_type": "code",
   "execution_count": 13,
   "metadata": {
    "collapsed": false
   },
   "outputs": [],
   "source": [
    "X_uni_train, X_uni_test, y_uni_train, y_uni_test = train_test_split(X_unigrams, y, test_size=0.1,\n",
    "                                                    random_state=9)"
   ]
  },
  {
   "cell_type": "code",
   "execution_count": null,
   "metadata": {
    "collapsed": true
   },
   "outputs": [],
   "source": [
    "# svm parameters\n",
    "# C = 10^-5 -> 10^5"
   ]
  },
  {
   "cell_type": "code",
   "execution_count": null,
   "metadata": {
    "collapsed": false
   },
   "outputs": [],
   "source": [
    "cv_clf = svm.SVC()\n",
    "cv_clf.set_params(C=10.0, gamma=0.001)\n",
    "#cv_clf.set_params(C=0.01, kernel='linear')\n",
    "#cv_clf.set_params(C=10.0, gamma=0.001, kernel='poly')\n",
    "#cv_clf.set_params(C=10000.0, gamma=9.9999999999999995e-07, kernel='sigmoid')\n",
    "kf = KFold(X_uni_train.shape[0], 10)\n",
    "cv_scores = cross_val_score(cv_clf, X_uni_train, y_uni_train, cv=kf, n_jobs=-1)\n",
    "print cv_scores, 'CV accuracy: %0.2f (+/- %0.2f)' % (cv_scores.mean(), cv_scores.std()*2)\n",
    "#[cv_clf.fit(X_train[train_indices], y_train[train_indices]).score(X_train[test_indices],y_train[test_indices])\n",
    "#for train_indices, test_indices in kf_total]"
   ]
  },
  {
   "cell_type": "code",
   "execution_count": 39,
   "metadata": {
    "collapsed": false,
    "scrolled": true
   },
   "outputs": [
    {
     "name": "stdout",
     "output_type": "stream",
     "text": [
      "[ 0.68        0.64363636  0.64233577  0.64963504  0.63868613  0.62043796\n",
      "  0.67518248  0.61313869  0.6350365   0.61678832] CV accuracy: 0.64 (+/- 0.04)\n"
     ]
    }
   ],
   "source": [
    "cv_clf = svm.LinearSVC()\n",
    "cv_clf.set_params(C=10.0) #, gamma=0.001)\n",
    "kf = KFold(X_train.shape[0], 10)\n",
    "cv_scores = cross_val_score(cv_clf, X_train, y_train, cv=kf, n_jobs=-1)\n",
    "print cv_scores, 'CV accuracy: %0.2f (+/- %0.2f)' % (cv_scores.mean(), cv_scores.std()*2)"
   ]
  },
  {
   "cell_type": "code",
   "execution_count": 15,
   "metadata": {
    "collapsed": false
   },
   "outputs": [
    {
     "data": {
      "text/plain": [
       "SVC(C=10.0, cache_size=200, class_weight=None, coef0=0.0,\n",
       "  decision_function_shape=None, degree=3, gamma=0.001, kernel='rbf',\n",
       "  max_iter=-1, probability=False, random_state=None, shrinking=True,\n",
       "  tol=0.001, verbose=False)"
      ]
     },
     "execution_count": 15,
     "metadata": {},
     "output_type": "execute_result"
    }
   ],
   "source": [
    "cv_clf.fit(X_train, y_train)"
   ]
  },
  {
   "cell_type": "code",
   "execution_count": 18,
   "metadata": {
    "collapsed": false
   },
   "outputs": [
    {
     "name": "stdout",
     "output_type": "stream",
     "text": [
      "[[ 95  13   0   0  10]\n",
      " [ 24  27   0   0   9]\n",
      " [  1   0   0   0   1]\n",
      " [  1   2   0   1   9]\n",
      " [  6   5   0   0 101]]\n"
     ]
    }
   ],
   "source": [
    "y_pred = cv_clf.predict(X_test)\n",
    "print(confusion_matrix(y_test, y_pred, labels=range(5)))"
   ]
  },
  {
   "cell_type": "code",
   "execution_count": 15,
   "metadata": {
    "collapsed": false
   },
   "outputs": [
    {
     "name": "stdout",
     "output_type": "stream",
     "text": [
      "Accuracy: 0.7311\n",
      "Total: 305, Correctly classified: 223.0\n"
     ]
    }
   ],
   "source": [
    "# set final parameters\n",
    "clf = svm.SVC()\n",
    "clf.fit(X_train, y_train)\n",
    "#clf.set_params(C=10, gamma=0.001)\n",
    "#clf.set_params(C=0.01, kernel='linear')\n",
    "#clf.set_params(C=10, gamma=0.001, kernel='poly')\n",
    "clf.set_params(C=10000.0, gamma=9.9999999999999995e-07, kernel='sigmoid')\n",
    "\n",
    "# accuracy of final model on the test set\n",
    "acc = clf.score(X_test, y_test)\n",
    "print('Accuracy: {:.4f}'.format(acc))\n",
    "print ('Total: ' + str(len(y_test)) + ', Correctly classified: ' + str(len(y_test)*acc))"
   ]
  },
  {
   "cell_type": "code",
   "execution_count": 13,
   "metadata": {
    "collapsed": false
   },
   "outputs": [
    {
     "name": "stdout",
     "output_type": "stream",
     "text": [
      "Accuracy: 0.7049 305\n",
      "Total: 305, Correctly classified: 215.0\n"
     ]
    }
   ],
   "source": [
    "# set final parameters\n",
    "clf = svm.LinearSVC()\n",
    "clf.fit(X_train, y_train)\n",
    "clf.set_params(C=10)\n",
    "\n",
    "# accuracy of final model on the test set\n",
    "acc = clf.score(X_test, y_test)\n",
    "print('Accuracy: {:.4f}'.format(acc)), len(y_test)\n",
    "print ('Total: ' + str(len(y_test)) + ', Correctly classified: ' + str(len(y_test)*acc))"
   ]
  },
  {
   "cell_type": "code",
   "execution_count": null,
   "metadata": {
    "collapsed": true
   },
   "outputs": [],
   "source": []
  }
 ],
 "metadata": {
  "kernelspec": {
   "display_name": "Python 2",
   "language": "python",
   "name": "python2"
  },
  "language_info": {
   "codemirror_mode": {
    "name": "ipython",
    "version": 2
   },
   "file_extension": ".py",
   "mimetype": "text/x-python",
   "name": "python",
   "nbconvert_exporter": "python",
   "pygments_lexer": "ipython2",
   "version": "2.7.11"
  }
 },
 "nbformat": 4,
 "nbformat_minor": 0
}
